{
 "cells": [
  {
   "cell_type": "markdown",
   "id": "df03feba",
   "metadata": {},
   "source": [
    "https://pykeen.readthedocs.io/en/latest/byo/data.html\n",
    "https://pykeen.readthedocs.io/en/latest/tutorial/first_steps.html\n"
   ]
  },
  {
   "cell_type": "code",
   "execution_count": 1,
   "id": "16cdcd7b",
   "metadata": {},
   "outputs": [],
   "source": [
    "from pykeen.models import TransE\n",
    "from pykeen.pipeline import pipeline"
   ]
  },
  {
   "cell_type": "code",
   "execution_count": 2,
   "id": "dc5f889f",
   "metadata": {},
   "outputs": [
    {
     "name": "stderr",
     "output_type": "stream",
     "text": [
      "No random seed is specified. Setting to 1116556714.\n",
      "No cuda devices were available. The model runs on CPU\n",
      "Training epochs on cpu: 100%|██████████| 100/100 [00:12<00:00,  8.28epoch/s, loss=0.0879, prev_loss=0.0841]\n",
      "INFO:pykeen.evaluation.evaluator:Currently automatic memory optimization only supports GPUs, but you're using a CPU. Therefore, the batch_size will be set to the default value.\n",
      "INFO:pykeen.evaluation.evaluator:No evaluation batch_size provided. Setting batch_size to '32'.\n",
      "Evaluating on cpu: 100%|██████████| 1.26k/1.26k [00:00<00:00, 7.52ktriple/s]\n",
      "INFO:pykeen.evaluation.evaluator:Evaluation took 0.18s seconds\n",
      "INFO:pykeen.triples.triples_factory:Stored TriplesFactory(num_entities=180, num_relations=11, create_inverse_triples=False, num_triples=1256, path=\"D:\\egyetem\\3 felev\\Application of Computational Linguistics\\second assignment\\implementation\\all_triples_names.txt\") to file:///D:/TransE_Meta/training_triples\n",
      "INFO:pykeen.pipeline.api:Saved to directory: file:///D:/TransE_Meta\n"
     ]
    }
   ],
   "source": [
    "\n",
    "result= pipeline(training='all_triples_names.txt',testing='all_triples_names.txt', model='TransE',model_kwargs=dict(embedding_dim=100),epochs=100)\n",
    "model = result.model\n",
    "\n",
    "result.save_to_directory(\"/TransE_Meta\")\n",
    "\n",
    "entity_representation_modules= model.entity_representations\n",
    "relation_representation_modules = model.relation_representations\n"
   ]
  },
  {
   "cell_type": "code",
   "execution_count": 3,
   "id": "00e49a37",
   "metadata": {},
   "outputs": [],
   "source": [
    "import pykeen\n",
    "entity_embeddings: pykeen.nn.Embedding = entity_representation_modules[0]"
   ]
  },
  {
   "cell_type": "code",
   "execution_count": 4,
   "id": "6b1de866",
   "metadata": {},
   "outputs": [],
   "source": [
    "entity_embedding_tensor= entity_embeddings()"
   ]
  },
  {
   "cell_type": "code",
   "execution_count": 5,
   "id": "23669081",
   "metadata": {},
   "outputs": [],
   "source": [
    "entity_embedding_tensor = model.entity_representations[0](indices=None).detach().numpy()"
   ]
  },
  {
   "cell_type": "code",
   "execution_count": 6,
   "id": "5f4106ab",
   "metadata": {},
   "outputs": [
    {
     "name": "stdout",
     "output_type": "stream",
     "text": [
      "(180, 100)\n"
     ]
    }
   ],
   "source": [
    "print(entity_embedding_tensor.shape)"
   ]
  },
  {
   "cell_type": "code",
   "execution_count": 7,
   "id": "095246d6",
   "metadata": {},
   "outputs": [],
   "source": [
    "import numpy as np\n",
    "file= open(\"wordEmbedding.txt\",\"a\")\n",
    "for line in entity_embedding_tensor:\n",
    "    list= line.tolist()\n",
    "    list= [str(number) for number in list]\n",
    "    file.write(\";\".join(list))\n",
    "    file.write('\\n')\n",
    "file.close()"
   ]
  }
 ],
 "metadata": {
  "kernelspec": {
   "display_name": "Python 3.9.5",
   "language": "python",
   "name": "python3"
  },
  "language_info": {
   "codemirror_mode": {
    "name": "ipython",
    "version": 3
   },
   "file_extension": ".py",
   "mimetype": "text/x-python",
   "name": "python",
   "nbconvert_exporter": "python",
   "pygments_lexer": "ipython3",
   "version": "3.9.5 (default, May 18 2021, 14:42:02) [MSC v.1916 64 bit (AMD64)]"
  },
  "vscode": {
   "interpreter": {
    "hash": "16a175bc149979f2f7e27f4236f4ae171c46587a8a4ac1fc449b58aac9db96c1"
   }
  }
 },
 "nbformat": 4,
 "nbformat_minor": 5
}
